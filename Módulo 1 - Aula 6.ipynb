{
 "cells": [
  {
   "cell_type": "code",
   "execution_count": 2,
   "id": "7260c149",
   "metadata": {},
   "outputs": [
    {
     "name": "stdout",
     "output_type": "stream",
     "text": [
      "Qual é o valor da corrida ? 25\n",
      "pague o ônibus\n"
     ]
    }
   ],
   "source": [
    "passagem = 4.50\n",
    "\n",
    "valor_corrida = input (\"Qual é o valor da corrida ? \")\n",
    "\n",
    "if float(valor_corrida) <= passagem * 5:\n",
    "    print(\"Pague a corrida\")\n",
    "if float(valor_corrida) > passagem * 5:\n",
    "    print(\"pague o ônibus\")    "
   ]
  },
  {
   "cell_type": "code",
   "execution_count": 3,
   "id": "d796ee49",
   "metadata": {},
   "outputs": [
    {
     "name": "stdout",
     "output_type": "stream",
     "text": [
      "Qual é o valor da corrida ? 25\n",
      "pague o ônibus\n"
     ]
    }
   ],
   "source": [
    "passagem = 4.50\n",
    "\n",
    "valor_corrida = input (\"Qual é o valor da corrida ? \")\n",
    "\n",
    "if float(valor_corrida) <= passagem * 5:\n",
    "    print(\"Pague a corrida\")\n",
    "else:\n",
    "    print(\"pague o ônibus\")    "
   ]
  },
  {
   "cell_type": "code",
   "execution_count": 7,
   "id": "7543cd94",
   "metadata": {},
   "outputs": [
    {
     "name": "stdout",
     "output_type": "stream",
     "text": [
      "Qual é o valor da corrida ? 35\n",
      "pague o ônibus\n"
     ]
    }
   ],
   "source": [
    "passagem = 4.50\n",
    "\n",
    "valor_corrida = input (\"Qual é o valor da corrida ? \")\n",
    "\n",
    "if float(valor_corrida) <= passagem * 5:\n",
    "    print(\"Pague a corrida\")\n",
    "else:\n",
    "    if float(valor_corrida) <= passagem * 6:\n",
    "        print(\"Aguarde um momento, o valor pode abaixar \")\n",
    "    else:\n",
    "         print(\"pague o ônibus\")"
   ]
  },
  {
   "cell_type": "code",
   "execution_count": 11,
   "id": "03667def",
   "metadata": {},
   "outputs": [
    {
     "name": "stdout",
     "output_type": "stream",
     "text": [
      "Qual é o valor da corrida ? 33\n",
      "pague o ônibus\n"
     ]
    }
   ],
   "source": [
    "passagem = 4.50\n",
    "\n",
    "valor_corrida = input (\"Qual é o valor da corrida ? \")\n",
    "\n",
    "if float(valor_corrida) <= passagem * 5:\n",
    "    print(\"Pague a corrida\")\n",
    "elif float(valor_corrida) <= passagem * 6:\n",
    "    print(\"Aguarde um momento, o valor pode abaixar \")       \n",
    "else:\n",
    "    print(\"pague o ônibus\")"
   ]
  },
  {
   "cell_type": "code",
   "execution_count": null,
   "id": "51152714",
   "metadata": {},
   "outputs": [],
   "source": []
  }
 ],
 "metadata": {
  "kernelspec": {
   "display_name": "Python 3 (ipykernel)",
   "language": "python",
   "name": "python3"
  },
  "language_info": {
   "codemirror_mode": {
    "name": "ipython",
    "version": 3
   },
   "file_extension": ".py",
   "mimetype": "text/x-python",
   "name": "python",
   "nbconvert_exporter": "python",
   "pygments_lexer": "ipython3",
   "version": "3.10.1"
  }
 },
 "nbformat": 4,
 "nbformat_minor": 5
}
