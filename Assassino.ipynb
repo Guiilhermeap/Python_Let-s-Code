{
 "cells": [
  {
   "cell_type": "code",
   "execution_count": 3,
   "id": "08ec6b56",
   "metadata": {},
   "outputs": [
    {
     "name": "stdout",
     "output_type": "stream",
     "text": [
      "Responda <s> para SIM ou <n> para NÃO, para as 5 perguntas seguintes: \n",
      "Mora perto da vítima? N\n",
      "Já trabalhou com a vítima? N\n",
      "Telefonou para a vítima? N\n",
      "Esteve no local do crime N\n",
      "Devia para a vítima? N\n",
      "Sua pontuação é: 0\n",
      "Obrigado pela sua cooperação, você está liberado.\n"
     ]
    }
   ],
   "source": [
    "print(\"Responda <s> para SIM ou <n> para NÃO, para as 5 perguntas seguintes: \")\n",
    "\n",
    "pergunta_1 = input(\"Mora perto da vítima? \").lower()\n",
    "if pergunta_1=='s':\n",
    "    p1 = 1\n",
    "else:\n",
    "    p1 = 0\n",
    "\n",
    "pergunta_2 = input(\"Já trabalhou com a vítima? \").lower()\n",
    "if pergunta_2=='s':\n",
    "    p2 = 1\n",
    "else:\n",
    "    p2 = 0\n",
    "\n",
    "pergunta_3 = input(\"Telefonou para a vítima? \").lower()\n",
    "if pergunta_3=='s':\n",
    "    p3 = 1\n",
    "else:\n",
    "    p3 = 0\n",
    "\n",
    "pergunta_4 = input(\"Esteve no local do crime \").lower()\n",
    "if pergunta_4=='s':\n",
    "    p4 = 1\n",
    "else:\n",
    "    p4 = 0\n",
    "\n",
    "pergunta_5 = input(\"Devia para a vítima? \").lower()\n",
    "if pergunta_5=='s':\n",
    "    p5 = 1\n",
    "else:\n",
    "    p5 = 0\n",
    "\n",
    "score = p1+p2+p3+p4+p5\n",
    "if score==5:\n",
    "    print(f\"Sua pontuação é: {score}\")\n",
    "    print(\"Preso em nome da lei, você é o assassino!\")\n",
    "elif score == 3 or score == 4:\n",
    "    print(f\"Sua pontuação é: {score}\")\n",
    "    print(\"Preso em nome da lei, você é cumplice do crime!\")\n",
    "elif score == 2:\n",
    "    print(f\"Sua pontuação é: {score}\")\n",
    "    print(\"Mantenha-se na cidade, evite viagens, você é suspeito.\")\n",
    "else:\n",
    "    print(f\"Sua pontuação é: {score}\")\n",
    "    print(\"Obrigado pela sua cooperação, você está liberado.\")"
   ]
  },
  {
   "cell_type": "code",
   "execution_count": null,
   "id": "1737b9a2",
   "metadata": {},
   "outputs": [],
   "source": []
  },
  {
   "cell_type": "code",
   "execution_count": null,
   "id": "67c290cc",
   "metadata": {},
   "outputs": [],
   "source": []
  }
 ],
 "metadata": {
  "kernelspec": {
   "display_name": "Python 3 (ipykernel)",
   "language": "python",
   "name": "python3"
  },
  "language_info": {
   "codemirror_mode": {
    "name": "ipython",
    "version": 3
   },
   "file_extension": ".py",
   "mimetype": "text/x-python",
   "name": "python",
   "nbconvert_exporter": "python",
   "pygments_lexer": "ipython3",
   "version": "3.10.1"
  }
 },
 "nbformat": 4,
 "nbformat_minor": 5
}
