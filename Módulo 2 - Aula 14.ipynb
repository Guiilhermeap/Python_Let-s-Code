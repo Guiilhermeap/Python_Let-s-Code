{
 "cells": [
  {
   "cell_type": "code",
   "execution_count": 1,
   "id": "7c4390d7",
   "metadata": {},
   "outputs": [],
   "source": [
    "def calcular(valor1, valor2, valor3):\n",
    "    soma = valor1 + valor2 + valor3\n",
    "    media = soma / 3\n",
    "    return media"
   ]
  },
  {
   "cell_type": "code",
   "execution_count": 6,
   "id": "ea8594a9",
   "metadata": {},
   "outputs": [],
   "source": [
    "def calcular(*args, margem):\n",
    "    soma = sum(args)\n",
    "    media = soma / len(args)\n",
    "    return media + margem"
   ]
  },
  {
   "cell_type": "code",
   "execution_count": 8,
   "id": "9e399462",
   "metadata": {
    "scrolled": true
   },
   "outputs": [
    {
     "data": {
      "text/plain": [
       "9.3"
      ]
     },
     "execution_count": 8,
     "metadata": {},
     "output_type": "execute_result"
    }
   ],
   "source": [
    "calcular(10, 8, 9, margem=0.3)"
   ]
  },
  {
   "cell_type": "code",
   "execution_count": 9,
   "id": "b6737954",
   "metadata": {},
   "outputs": [],
   "source": [
    "def print_info(**kwargs):\n",
    "    print (kwargs, type(kwargs))  #Kwargs é apenas uma variavel"
   ]
  },
  {
   "cell_type": "code",
   "execution_count": 10,
   "id": "8428823b",
   "metadata": {},
   "outputs": [
    {
     "name": "stdout",
     "output_type": "stream",
     "text": [
      "{'nome': 'Guilherme', 'sobrenome': 'Aparecido'} <class 'dict'>\n"
     ]
    }
   ],
   "source": [
    "print_info(nome = 'Guilherme', sobrenome = 'Aparecido')"
   ]
  },
  {
   "cell_type": "code",
   "execution_count": null,
   "id": "818d31d4",
   "metadata": {},
   "outputs": [],
   "source": []
  }
 ],
 "metadata": {
  "kernelspec": {
   "display_name": "Python 3 (ipykernel)",
   "language": "python",
   "name": "python3"
  },
  "language_info": {
   "codemirror_mode": {
    "name": "ipython",
    "version": 3
   },
   "file_extension": ".py",
   "mimetype": "text/x-python",
   "name": "python",
   "nbconvert_exporter": "python",
   "pygments_lexer": "ipython3",
   "version": "3.10.1"
  }
 },
 "nbformat": 4,
 "nbformat_minor": 5
}
