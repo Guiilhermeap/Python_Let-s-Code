{
 "cells": [
  {
   "cell_type": "code",
   "execution_count": 1,
   "id": "bcbcecd6",
   "metadata": {},
   "outputs": [
    {
     "name": "stdout",
     "output_type": "stream",
     "text": [
      " Informe a sua idade: 21\n",
      "21 <class 'str'>\n"
     ]
    }
   ],
   "source": [
    "idade = input(\" Informe a sua idade: \")\n",
    "print(idade, type(idade))"
   ]
  },
  {
   "cell_type": "code",
   "execution_count": 2,
   "id": "a093a650",
   "metadata": {},
   "outputs": [
    {
     "name": "stdout",
     "output_type": "stream",
     "text": [
      "21 <class 'int'>\n"
     ]
    }
   ],
   "source": [
    "idade = int(idade)\n",
    "print(idade, type(idade))"
   ]
  },
  {
   "cell_type": "code",
   "execution_count": 3,
   "id": "e818c1d3",
   "metadata": {},
   "outputs": [
    {
     "name": "stdout",
     "output_type": "stream",
     "text": [
      "123.25\n",
      "123.25\n",
      "False\n",
      "True\n",
      "False\n",
      "True\n"
     ]
    }
   ],
   "source": [
    "print (float(\"123.25\"))\n",
    "print(str(123.25))\n",
    "print(bool(\"\"))\n",
    "print(bool(\"abc\"))\n",
    "print(bool(0))\n",
    "print(bool(-2))"
   ]
  },
  {
   "cell_type": "code",
   "execution_count": 5,
   "id": "f7e66d58",
   "metadata": {},
   "outputs": [
    {
     "name": "stdout",
     "output_type": "stream",
     "text": [
      "digite o valor do seu salário mensal : 4000\n",
      "Digite o valor do seu gasto mensal em média : 1000\n",
      " O montante que você pode economizar é de :  36000.0\n"
     ]
    }
   ],
   "source": [
    "salario_m = input(\"digite o valor do seu salário mensal : \")\n",
    "salario_m = float(salario_m)\n",
    "\n",
    "gasto_m = input(\"Digite o valor do seu gasto mensal em média : \")\n",
    "gasto_m = float(gasto_m)\n",
    "\n",
    "salario_t = salario_m * 12\n",
    "gasto_t = gasto_m *12\n",
    "\n",
    "montante_economizado = salario_t - gasto_t\n",
    "print(\" O montante que você pode economizar é de : \",montante_economizado)"
   ]
  },
  {
   "cell_type": "code",
   "execution_count": null,
   "id": "cf5357a1",
   "metadata": {},
   "outputs": [],
   "source": []
  }
 ],
 "metadata": {
  "kernelspec": {
   "display_name": "Python 3 (ipykernel)",
   "language": "python",
   "name": "python3"
  },
  "language_info": {
   "codemirror_mode": {
    "name": "ipython",
    "version": 3
   },
   "file_extension": ".py",
   "mimetype": "text/x-python",
   "name": "python",
   "nbconvert_exporter": "python",
   "pygments_lexer": "ipython3",
   "version": "3.10.1"
  }
 },
 "nbformat": 4,
 "nbformat_minor": 5
}
