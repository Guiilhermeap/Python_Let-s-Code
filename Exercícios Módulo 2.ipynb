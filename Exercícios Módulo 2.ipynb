{
 "cells": [
  {
   "cell_type": "code",
   "execution_count": 20,
   "id": "e1bd9d6a",
   "metadata": {},
   "outputs": [],
   "source": [
    "# 1. Faça um programa que olhe todos os itens de uma lista e diga quantos deles são pares.\n",
    "\n",
    "def numeros(lista):\n",
    "    contador = 0\n",
    "    try:\n",
    "        for item in lista:\n",
    "            if (item % 2 == 0):\n",
    "                contador += 1\n",
    "        print(f'Temos {contador} números pares')\n",
    "                \n",
    "    except TypeError:\n",
    "        print('Lista deve conter apenas números')"
   ]
  },
  {
   "cell_type": "code",
   "execution_count": 21,
   "id": "633c19ac",
   "metadata": {},
   "outputs": [
    {
     "name": "stdout",
     "output_type": "stream",
     "text": [
      "Temos 6 números pares\n"
     ]
    }
   ],
   "source": [
    "listas = [2, 4, 3, 19, 20, 50, 12, 22, 21, 25, 29]\n",
    "numeros(listas)"
   ]
  },
  {
   "cell_type": "code",
   "execution_count": 22,
   "id": "986e53d9",
   "metadata": {},
   "outputs": [],
   "source": [
    "# 2. Faça um programa que peça para o usuário digitar uma palavra e imprima cada letra em uma linha.\n",
    "\n",
    "def usuario():\n",
    "    palavra = input('Digite uma palavra')\n",
    "    for letra in palavra:\n",
    "        print(letra)"
   ]
  },
  {
   "cell_type": "code",
   "execution_count": 23,
   "id": "a31f9c31",
   "metadata": {},
   "outputs": [
    {
     "name": "stdout",
     "output_type": "stream",
     "text": [
      "Digite uma palavraGuilherme\n",
      "G\n",
      "u\n",
      "i\n",
      "l\n",
      "h\n",
      "e\n",
      "r\n",
      "m\n",
      "e\n"
     ]
    }
   ],
   "source": [
    "usuario()"
   ]
  },
  {
   "cell_type": "code",
   "execution_count": 33,
   "id": "8be0279e",
   "metadata": {},
   "outputs": [],
   "source": [
    "# 3. Faça uma função que recebe duas listas e retorna a soma item a item dessas listas. Exemplo: Se a função receber as listas [1,4,3] e [3,5,1], então a função deve retornar [1+3, 4+5, 3+1] = [4, 9, 4].\n",
    "\n",
    "l1 = [1, 3, 5, 4, 6, 10]\n",
    "l2 = [6, 7, 1, 4, 10, 11]\n",
    "\n",
    "def somar_listas(lista1, lista2):\n",
    "    return[n1 + n2 for n1,n2 in zip(lista1, lista2)]"
   ]
  },
  {
   "cell_type": "code",
   "execution_count": 34,
   "id": "929da6a4",
   "metadata": {},
   "outputs": [
    {
     "data": {
      "text/plain": [
       "[7, 10, 6, 8, 16, 21]"
      ]
     },
     "execution_count": 34,
     "metadata": {},
     "output_type": "execute_result"
    }
   ],
   "source": [
    "somar_listas(l1,l2)"
   ]
  },
  {
   "cell_type": "code",
   "execution_count": 37,
   "id": "5258cd34",
   "metadata": {},
   "outputs": [
    {
     "data": {
      "text/plain": [
       "{'janeiro': 31,\n",
       " 'fevereiro': 28,\n",
       " 'março': 31,\n",
       " 'abril': 30,\n",
       " 'maio': 31,\n",
       " 'junho': 30,\n",
       " 'julho': 31,\n",
       " 'agosto': 31,\n",
       " 'setembro': 30,\n",
       " 'outubro': 31,\n",
       " 'novembro': 30,\n",
       " 'dezembro': 31}"
      ]
     },
     "execution_count": 37,
     "metadata": {},
     "output_type": "execute_result"
    }
   ],
   "source": [
    "# 4. Crie um dicionário cujas chaves são os meses do ano e os valores são a duração (em dias) de cada mês.\n",
    "\n",
    "dias_meses = {'janeiro':31,'fevereiro':28,'março':31,'abril':30,'maio':31,'junho':30,\n",
    "              'julho':31,'agosto':31,'setembro':30,'outubro':31,'novembro':30,'dezembro':31}\n",
    "dias_meses"
   ]
  },
  {
   "cell_type": "code",
   "execution_count": 41,
   "id": "81de93b7",
   "metadata": {},
   "outputs": [
    {
     "name": "stdout",
     "output_type": "stream",
     "text": [
      "O mês de janeiro tem 31 dias\n",
      "O mês de fevereiro tem 28 dias\n",
      "O mês de março tem 31 dias\n",
      "O mês de abril tem 30 dias\n",
      "O mês de maio tem 31 dias\n",
      "O mês de junho tem 30 dias\n",
      "O mês de julho tem 31 dias\n",
      "O mês de agosto tem 31 dias\n",
      "O mês de setembro tem 30 dias\n",
      "O mês de outubro tem 31 dias\n",
      "O mês de novembro tem 30 dias\n",
      "O mês de dezembro tem 31 dias\n"
     ]
    }
   ],
   "source": [
    "# 5. Imprima as chaves seguidas dos seus valores para dicionário criado no exercício anterior. Exemplo:\n",
    "# Janeiro - 31\n",
    "# Fevereiro - 28\n",
    "# Março - 31\n",
    "# Etc...\n",
    "\n",
    "for mes, dias in dias_meses.items():\n",
    "    print(f'O mês de {mes} tem {dias} dias')"
   ]
  },
  {
   "cell_type": "code",
   "execution_count": null,
   "id": "b205e423",
   "metadata": {},
   "outputs": [],
   "source": []
  }
 ],
 "metadata": {
  "kernelspec": {
   "display_name": "Python 3 (ipykernel)",
   "language": "python",
   "name": "python3"
  },
  "language_info": {
   "codemirror_mode": {
    "name": "ipython",
    "version": 3
   },
   "file_extension": ".py",
   "mimetype": "text/x-python",
   "name": "python",
   "nbconvert_exporter": "python",
   "pygments_lexer": "ipython3",
   "version": "3.10.1"
  }
 },
 "nbformat": 4,
 "nbformat_minor": 5
}
