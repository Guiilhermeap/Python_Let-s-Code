{
 "cells": [
  {
   "cell_type": "code",
   "execution_count": 5,
   "id": "d96055a4",
   "metadata": {},
   "outputs": [
    {
     "name": "stdout",
     "output_type": "stream",
     "text": [
      "Digite sua idade : 41\n",
      "Parabéns você tem  41 anos\n"
     ]
    }
   ],
   "source": [
    "idade = int(input('Digite sua idade : '))\n",
    "if idade >= 0 and idade <= 150:\n",
    "    print('Parabéns você tem ',idade,'anos')\n",
    "else:\n",
    "    print('Idade invalida, tente novamente')   "
   ]
  },
  {
   "cell_type": "code",
   "execution_count": 9,
   "id": "c60038ed",
   "metadata": {},
   "outputs": [
    {
     "name": "stdout",
     "output_type": "stream",
     "text": [
      "Entre com o valor do seu salário : 0\n",
      "Salário Invalido\n"
     ]
    }
   ],
   "source": [
    "salario = float(input('Entre com o valor do seu salário : '))\n",
    "if salario > 0:\n",
    "    print('Seu sálario é : ',salario)\n",
    "else:\n",
    "    print('Salário Invalido')"
   ]
  },
  {
   "cell_type": "code",
   "execution_count": 21,
   "id": "c290ce46",
   "metadata": {},
   "outputs": [
    {
     "name": "stdout",
     "output_type": "stream",
     "text": [
      "Digite um gênero: <M> para masculino, <F> para feminino ou <Outro> para outros: m\n",
      "Você digitou M\n"
     ]
    }
   ],
   "source": [
    "def valida_genero():\n",
    "    genero = input(\"Digite um gênero: <M> para masculino, <F> para feminino ou <Outro> para outros: \").upper()\n",
    "    if genero=='M':\n",
    "        return \"Você digitou \" + genero\n",
    "    elif genero=='F':\n",
    "        return \"Você digitou \" + genero\n",
    "    elif genero==\"OUTRO\":\n",
    "        return \"Você digitou \" + genero\n",
    "    else:\n",
    "        return \"Você digitou um gênero inválido, tente novamente mais tarde ;)\"\n",
    "print(valida_genero())"
   ]
  },
  {
   "cell_type": "code",
   "execution_count": null,
   "id": "80edaaa5",
   "metadata": {},
   "outputs": [],
   "source": []
  },
  {
   "cell_type": "code",
   "execution_count": null,
   "id": "d5e8f1dc",
   "metadata": {},
   "outputs": [],
   "source": []
  }
 ],
 "metadata": {
  "kernelspec": {
   "display_name": "Python 3 (ipykernel)",
   "language": "python",
   "name": "python3"
  },
  "language_info": {
   "codemirror_mode": {
    "name": "ipython",
    "version": 3
   },
   "file_extension": ".py",
   "mimetype": "text/x-python",
   "name": "python",
   "nbconvert_exporter": "python",
   "pygments_lexer": "ipython3",
   "version": "3.10.1"
  }
 },
 "nbformat": 4,
 "nbformat_minor": 5
}
