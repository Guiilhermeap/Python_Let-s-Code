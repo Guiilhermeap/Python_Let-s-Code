{
 "cells": [
  {
   "cell_type": "code",
   "execution_count": 4,
   "id": "437eb01a",
   "metadata": {},
   "outputs": [],
   "source": [
    "with open('arquivo_teste.txt', 'w', encoding='utf-8') as arquivo:\n",
    "    arquivo.write('Essa é uma linha que eu escrevi usando python\\n')\n",
    "    arquivo.write('Essa é a segunda linha que eu escrevi usando python\\n')"
   ]
  },
  {
   "cell_type": "code",
   "execution_count": 6,
   "id": "40ed5334",
   "metadata": {},
   "outputs": [
    {
     "name": "stdout",
     "output_type": "stream",
     "text": [
      "Essa é uma linha que eu escrevi usando python\n",
      "Essa é a segunda linha que eu escrevi usando python\n"
     ]
    }
   ],
   "source": [
    "with open('arquivo_teste.txt', 'r', encoding='utf-8') as arquivo:\n",
    "    print(arquivo.read(),end='')"
   ]
  },
  {
   "cell_type": "code",
   "execution_count": 7,
   "id": "1b1619c2",
   "metadata": {},
   "outputs": [],
   "source": [
    "with open('arquivo_teste.txt', 'a', encoding='utf-8') as arquivo:\n",
    "    arquivo.write('Essa é uma linha que eu escrevi usando python\\n')"
   ]
  },
  {
   "cell_type": "code",
   "execution_count": 8,
   "id": "13b5e6e3",
   "metadata": {},
   "outputs": [
    {
     "ename": "ValueError",
     "evalue": "I/O operation on closed file.",
     "output_type": "error",
     "traceback": [
      "\u001b[1;31m---------------------------------------------------------------------------\u001b[0m",
      "\u001b[1;31mValueError\u001b[0m                                Traceback (most recent call last)",
      "\u001b[1;32m~\\AppData\\Local\\Temp/ipykernel_1148/1824394370.py\u001b[0m in \u001b[0;36m<module>\u001b[1;34m\u001b[0m\n\u001b[1;32m----> 1\u001b[1;33m \u001b[0mprint\u001b[0m\u001b[1;33m(\u001b[0m\u001b[0marquivo\u001b[0m\u001b[1;33m.\u001b[0m\u001b[0mread\u001b[0m\u001b[1;33m(\u001b[0m\u001b[1;33m)\u001b[0m\u001b[1;33m,\u001b[0m \u001b[0mend\u001b[0m\u001b[1;33m=\u001b[0m\u001b[1;34m''\u001b[0m\u001b[1;33m)\u001b[0m\u001b[1;33m\u001b[0m\u001b[1;33m\u001b[0m\u001b[0m\n\u001b[0m",
      "\u001b[1;31mValueError\u001b[0m: I/O operation on closed file."
     ]
    }
   ],
   "source": [
    "print(arquivo.read(),end='')"
   ]
  },
  {
   "cell_type": "code",
   "execution_count": null,
   "id": "9fed0249",
   "metadata": {},
   "outputs": [],
   "source": []
  },
  {
   "cell_type": "code",
   "execution_count": null,
   "id": "d68d95f3",
   "metadata": {},
   "outputs": [],
   "source": []
  }
 ],
 "metadata": {
  "kernelspec": {
   "display_name": "Python 3 (ipykernel)",
   "language": "python",
   "name": "python3"
  },
  "language_info": {
   "codemirror_mode": {
    "name": "ipython",
    "version": 3
   },
   "file_extension": ".py",
   "mimetype": "text/x-python",
   "name": "python",
   "nbconvert_exporter": "python",
   "pygments_lexer": "ipython3",
   "version": "3.10.1"
  }
 },
 "nbformat": 4,
 "nbformat_minor": 5
}
