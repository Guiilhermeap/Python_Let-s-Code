{
 "cells": [
  {
   "cell_type": "code",
   "execution_count": 1,
   "id": "a4c49e8d",
   "metadata": {},
   "outputs": [
    {
     "name": "stdout",
     "output_type": "stream",
     "text": [
      "1 item limpo\n",
      "2 intens limpos\n",
      "3 intens limpos\n",
      "4 intens limpos\n",
      "5 intens limpos\n",
      "6 intens limpos\n",
      "7 intens limpos\n",
      "8 intens limpos\n",
      "9 intens limpos\n",
      "10 intens limpos\n",
      "fim da repetição de bloco while\n"
     ]
    }
   ],
   "source": [
    "contador = 0\n",
    "\n",
    "while contador < 10:\n",
    "    contador = contador + 1\n",
    "    if contador == 1:\n",
    "        print(contador, \"item limpo\")\n",
    "    else:\n",
    "        print(contador,\" itens limpos\")\n",
    "        \n",
    "print(\"fim da repetição de bloco while\")"
   ]
  },
  {
   "cell_type": "code",
   "execution_count": 3,
   "id": "c65c8462",
   "metadata": {},
   "outputs": [
    {
     "name": "stdout",
     "output_type": "stream",
     "text": [
      "1 item limpo\n",
      "2  itens limpos\n",
      "3  itens limpos\n",
      "4  itens limpos\n",
      "5  itens limpos\n",
      "6  itens limpos\n",
      "7  itens limpos\n",
      "8  itens limpos\n",
      "9  itens limpos\n",
      "10  itens limpos\n",
      "fim da repetição de bloco while\n"
     ]
    }
   ],
   "source": [
    "contador = 0\n",
    "\n",
    "while True:\n",
    "    if contador < 10:\n",
    "        contador = contador + 1\n",
    "        if contador == 1:\n",
    "            print(contador, \"item limpo\")\n",
    "        else:\n",
    "            print(contador,\" itens limpos\")\n",
    "    else:\n",
    "        break\n",
    "        \n",
    "print(\"fim da repetição de bloco while\")"
   ]
  },
  {
   "cell_type": "code",
   "execution_count": 5,
   "id": "49d86bad",
   "metadata": {},
   "outputs": [
    {
     "name": "stdout",
     "output_type": "stream",
     "text": [
      "Digite a sua senha : lestcode\n",
      "senha inválida. Tente novamentelestcodde\n",
      "senha inválida. Tente novamenteLestcode\n",
      "senha inválida. Tente novamenteLetscode\n",
      "acesso permitido\n"
     ]
    }
   ],
   "source": [
    "texto = input(\"Digite a sua senha : \")\n",
    "\n",
    "while texto != 'Letscode':\n",
    "    texto = input('senha inválida. Tente novamente')\n",
    "    \n",
    "print('acesso permitido')"
   ]
  },
  {
   "cell_type": "code",
   "execution_count": 6,
   "id": "cef2dbbd",
   "metadata": {},
   "outputs": [
    {
     "name": "stdout",
     "output_type": "stream",
     "text": [
      "2  itens limpos\n",
      "3  itens limpos\n",
      "4  itens limpos\n",
      "5  itens limpos\n",
      "6  itens limpos\n",
      "7  itens limpos\n",
      "8  itens limpos\n",
      "9  itens limpos\n",
      "10  itens limpos\n",
      "fim da repetição de bloco while\n"
     ]
    }
   ],
   "source": [
    "contador = 0\n",
    "\n",
    "while contador < 10:\n",
    "    contador = contador + 1\n",
    "    if contador == 1:\n",
    "        continue\n",
    "    print(contador,\" itens limpos\")\n",
    "        \n",
    "print(\"fim da repetição de bloco while\")"
   ]
  },
  {
   "cell_type": "code",
   "execution_count": null,
   "id": "8e55af26",
   "metadata": {},
   "outputs": [],
   "source": []
  }
 ],
 "metadata": {
  "kernelspec": {
   "display_name": "Python 3 (ipykernel)",
   "language": "python",
   "name": "python3"
  },
  "language_info": {
   "codemirror_mode": {
    "name": "ipython",
    "version": 3
   },
   "file_extension": ".py",
   "mimetype": "text/x-python",
   "name": "python",
   "nbconvert_exporter": "python",
   "pygments_lexer": "ipython3",
   "version": "3.10.1"
  }
 },
 "nbformat": 4,
 "nbformat_minor": 5
}
