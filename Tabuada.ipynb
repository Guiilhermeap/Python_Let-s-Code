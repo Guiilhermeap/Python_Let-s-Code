{
 "cells": [
  {
   "cell_type": "code",
   "execution_count": 1,
   "id": "236921c3",
   "metadata": {},
   "outputs": [
    {
     "name": "stdout",
     "output_type": "stream",
     "text": [
      "\n",
      "Digite o número da tabuada desejada: 10\n",
      "\n",
      "Tabuada do número 10:\n",
      "10 x 1 = 10\n",
      "10 x 2 = 20\n",
      "10 x 3 = 30\n",
      "10 x 4 = 40\n",
      "10 x 5 = 50\n",
      "10 x 6 = 60\n",
      "10 x 7 = 70\n",
      "10 x 8 = 80\n",
      "10 x 9 = 90\n",
      "10 x 10 = 100\n"
     ]
    }
   ],
   "source": [
    "tabuada = int(input(\"\\nDigite o número da tabuada desejada: \"))\n",
    "print(f\"\\nTabuada do número {tabuada}:\")\n",
    "for valor in range(1,11,1):\n",
    "    print(f'{tabuada} x {valor} = {tabuada*valor}')"
   ]
  },
  {
   "cell_type": "code",
   "execution_count": 4,
   "id": "5618f7b3",
   "metadata": {},
   "outputs": [
    {
     "name": "stdout",
     "output_type": "stream",
     "text": [
      "Tabuada do número :  {9}\n",
      "9 x 1 = 9\n",
      "9 x 2 = 18\n",
      "9 x 3 = 27\n",
      "9 x 4 = 36\n",
      "9 x 5 = 45\n",
      "9 x 6 = 54\n",
      "9 x 7 = 63\n",
      "9 x 8 = 72\n",
      "9 x 9 = 81\n",
      "9 x 10 = 90\n"
     ]
    }
   ],
   "source": [
    "tabuada = 9\n",
    "print('Tabuada do número : ',{tabuada})\n",
    "for valor in range(1,11,1):\n",
    "    print(f'{tabuada} x {valor} = {tabuada*valor}')"
   ]
  },
  {
   "cell_type": "code",
   "execution_count": null,
   "id": "57647295",
   "metadata": {},
   "outputs": [],
   "source": []
  }
 ],
 "metadata": {
  "kernelspec": {
   "display_name": "Python 3 (ipykernel)",
   "language": "python",
   "name": "python3"
  },
  "language_info": {
   "codemirror_mode": {
    "name": "ipython",
    "version": 3
   },
   "file_extension": ".py",
   "mimetype": "text/x-python",
   "name": "python",
   "nbconvert_exporter": "python",
   "pygments_lexer": "ipython3",
   "version": "3.10.1"
  }
 },
 "nbformat": 4,
 "nbformat_minor": 5
}
