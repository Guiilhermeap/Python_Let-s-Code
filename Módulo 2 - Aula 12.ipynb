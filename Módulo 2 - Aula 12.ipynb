{
 "cells": [
  {
   "cell_type": "code",
   "execution_count": 1,
   "id": "1f587113",
   "metadata": {},
   "outputs": [
    {
     "name": "stdout",
     "output_type": "stream",
     "text": [
      "São Paulo\n",
      "Londres\n",
      "Tóquio\n",
      "Paris\n"
     ]
    }
   ],
   "source": [
    "cidades = ['São Paulo', 'Londres', 'Tóquio', 'Paris']\n",
    "for nome in cidades:\n",
    "    print(nome)"
   ]
  },
  {
   "cell_type": "code",
   "execution_count": 4,
   "id": "2d3a6749",
   "metadata": {},
   "outputs": [
    {
     "name": "stdout",
     "output_type": "stream",
     "text": [
      "São Paulo\n",
      "Londres\n",
      "Tóquio\n",
      "Paris\n"
     ]
    }
   ],
   "source": [
    "contador = 0\n",
    "cidades = ['São Paulo', 'Londres', 'Tóquio', 'Paris'] # Lista\n",
    "while contador < len(cidades):\n",
    "    print(cidades[contador])\n",
    "    contador = contador + 1"
   ]
  },
  {
   "cell_type": "code",
   "execution_count": 7,
   "id": "103f5113",
   "metadata": {},
   "outputs": [
    {
     "name": "stdout",
     "output_type": "stream",
     "text": [
      "Londres\n",
      "São Paulo\n",
      "Tóquio\n",
      "Paris\n"
     ]
    }
   ],
   "source": [
    "cidades = {'São Paulo', 'Londres', 'Tóquio', 'Paris'} # dicionário\n",
    "for nome in cidades:\n",
    "    print(nome)"
   ]
  },
  {
   "cell_type": "code",
   "execution_count": 8,
   "id": "6639f64e",
   "metadata": {},
   "outputs": [
    {
     "name": "stdout",
     "output_type": "stream",
     "text": [
      "nome: São Paulo\n",
      "estado: São Paulo\n",
      "populacão_mi: 12.2\n"
     ]
    }
   ],
   "source": [
    "cidade = {\n",
    "    'nome': 'São Paulo',\n",
    "    'estado': 'São Paulo',     #dicionário\n",
    "    'populacão_mi': 12.2\n",
    "}\n",
    "for chave in cidade:\n",
    "    print(f'{chave}: {cidade[chave]}')"
   ]
  },
  {
   "cell_type": "code",
   "execution_count": 12,
   "id": "d46341c2",
   "metadata": {},
   "outputs": [
    {
     "name": "stdout",
     "output_type": "stream",
     "text": [
      "['São Paulo', 'Londres', 'Tóquio', 'Paris']\n"
     ]
    }
   ],
   "source": [
    "cidades = ['São Paulo', 'Londres', 'Tóquio', 'Paris'] # dicionário\n",
    "for nome in cidades:\n",
    "    nome = 'Rio de Janeiro'\n",
    "print(cidades)"
   ]
  },
  {
   "cell_type": "code",
   "execution_count": 15,
   "id": "33579c3d",
   "metadata": {},
   "outputs": [
    {
     "name": "stdout",
     "output_type": "stream",
     "text": [
      "['Rio de Janeiro', 'Rio de Janeiro', 'Rio de Janeiro', 'Rio de Janeiro']\n"
     ]
    }
   ],
   "source": [
    "for posicao in range(len(cidades)):\n",
    "    cidades[posicao] = 'Rio de Janeiro'\n",
    "print(cidades)"
   ]
  },
  {
   "cell_type": "code",
   "execution_count": 17,
   "id": "8eefe739",
   "metadata": {},
   "outputs": [
    {
     "name": "stdout",
     "output_type": "stream",
     "text": [
      "[0, 1, 2, 3, 4, 5, 6, 7, 8, 9]\n",
      "[2, 3, 4, 5, 6, 7, 8, 9]\n",
      "[2, 4, 6, 8]\n"
     ]
    }
   ],
   "source": [
    "print(list(range(10)))\n",
    "print(list(range(2, 10)))             # range {posição}\n",
    "print(list(range(2, 10, 2)))"
   ]
  },
  {
   "cell_type": "code",
   "execution_count": null,
   "id": "e7b0976e",
   "metadata": {},
   "outputs": [],
   "source": []
  }
 ],
 "metadata": {
  "kernelspec": {
   "display_name": "Python 3 (ipykernel)",
   "language": "python",
   "name": "python3"
  },
  "language_info": {
   "codemirror_mode": {
    "name": "ipython",
    "version": 3
   },
   "file_extension": ".py",
   "mimetype": "text/x-python",
   "name": "python",
   "nbconvert_exporter": "python",
   "pygments_lexer": "ipython3",
   "version": "3.10.1"
  }
 },
 "nbformat": 4,
 "nbformat_minor": 5
}
