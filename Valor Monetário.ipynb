{
 "cells": [
  {
   "cell_type": "code",
   "execution_count": 8,
   "id": "fb8d66e7",
   "metadata": {},
   "outputs": [
    {
     "name": "stdout",
     "output_type": "stream",
     "text": [
      "Digite um valor monetário: 2000\n",
      "O valor atual é:  2000.0\n",
      "O valor após depreciação de 15% é:  1700.0\n",
      "None\n"
     ]
    }
   ],
   "source": [
    "def novo_valor():\n",
    "    valor_atual = float(input(\"Digite um valor monetário: \"))\n",
    "    print(\"O valor atual é: \", valor_atual)\n",
    "    novo_valor = valor_atual * 0.85\n",
    "    print(\"O valor após depreciação de 15% é: \", novo_valor)\n",
    "\n",
    "print(novo_valor())"
   ]
  },
  {
   "cell_type": "code",
   "execution_count": null,
   "id": "45f0605c",
   "metadata": {},
   "outputs": [],
   "source": []
  }
 ],
 "metadata": {
  "kernelspec": {
   "display_name": "Python 3 (ipykernel)",
   "language": "python",
   "name": "python3"
  },
  "language_info": {
   "codemirror_mode": {
    "name": "ipython",
    "version": 3
   },
   "file_extension": ".py",
   "mimetype": "text/x-python",
   "name": "python",
   "nbconvert_exporter": "python",
   "pygments_lexer": "ipython3",
   "version": "3.10.1"
  }
 },
 "nbformat": 4,
 "nbformat_minor": 5
}
